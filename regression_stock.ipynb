{
  "nbformat": 4,
  "nbformat_minor": 0,
  "metadata": {
    "colab": {
      "name": "regression_stock.ipynb",
      "provenance": [],
      "collapsed_sections": [],
      "include_colab_link": true
    },
    "kernelspec": {
      "display_name": "Python 3",
      "language": "python",
      "name": "python3"
    },
    "language_info": {
      "codemirror_mode": {
        "name": "ipython",
        "version": 3
      },
      "file_extension": ".py",
      "mimetype": "text/x-python",
      "name": "python",
      "nbconvert_exporter": "python",
      "pygments_lexer": "ipython3",
      "version": "3.6.12"
    }
  },
  "cells": [
    {
      "cell_type": "markdown",
      "metadata": {
        "id": "view-in-github",
        "colab_type": "text"
      },
      "source": [
        "<a href=\"https://colab.research.google.com/github/Moony-H/ML-Learning/blob/master/regression_stock.ipynb\" target=\"_parent\"><img src=\"https://colab.research.google.com/assets/colab-badge.svg\" alt=\"Open In Colab\"/></a>"
      ]
    },
    {
      "cell_type": "code",
      "metadata": {
        "id": "_FLlDg41alHb",
        "outputId": "ba4b5cf8-53a0-4950-ee71-bc83ab52bea3",
        "colab": {
          "base_uri": "https://localhost:8080/",
          "height": 1000
        }
      },
      "source": [
        "!pip install tensorflow==1.2\n",
        "import tensorflow as tf\n",
        "import pandas as pd\n",
        "import numpy as np\n",
        "import matplotlib.pyplot as plt\n",
        " \n",
        "!pip install yfinance\n",
        "import yfinance as yf\n"
      ],
      "execution_count": null,
      "outputs": [
        {
          "output_type": "stream",
          "text": [
            "Collecting tensorflow==1.2\n",
            "\u001b[?25l  Downloading https://files.pythonhosted.org/packages/5e/55/7995cc1e9e60fa37ea90e6777d832e75026fde5c6109215d892aaff2e9b7/tensorflow-1.2.0-cp36-cp36m-manylinux1_x86_64.whl (35.0MB)\n",
            "\u001b[K     |████████████████████████████████| 35.0MB 124kB/s \n",
            "\u001b[?25hRequirement already satisfied: wheel>=0.26 in /usr/local/lib/python3.6/dist-packages (from tensorflow==1.2) (0.35.1)\n",
            "Collecting bleach==1.5.0\n",
            "  Downloading https://files.pythonhosted.org/packages/33/70/86c5fec937ea4964184d4d6c4f0b9551564f821e1c3575907639036d9b90/bleach-1.5.0-py2.py3-none-any.whl\n",
            "Collecting markdown==2.2.0\n",
            "\u001b[?25l  Downloading https://files.pythonhosted.org/packages/ac/99/288a81a38526a42c98b5b9832c6e339ca8d5dd38b19a53abfac7c8037c7f/Markdown-2.2.0.tar.gz (236kB)\n",
            "\u001b[K     |████████████████████████████████| 245kB 73.1MB/s \n",
            "\u001b[?25hRequirement already satisfied: werkzeug>=0.11.10 in /usr/local/lib/python3.6/dist-packages (from tensorflow==1.2) (1.0.1)\n",
            "Collecting backports.weakref==1.0rc1\n",
            "  Downloading https://files.pythonhosted.org/packages/6a/f7/ae34b6818b603e264f26fe7db2bd07850ce331ce2fde74b266d61f4a2d87/backports.weakref-1.0rc1-py3-none-any.whl\n",
            "Requirement already satisfied: protobuf>=3.2.0 in /usr/local/lib/python3.6/dist-packages (from tensorflow==1.2) (3.12.4)\n",
            "Requirement already satisfied: six>=1.10.0 in /usr/local/lib/python3.6/dist-packages (from tensorflow==1.2) (1.15.0)\n",
            "Collecting html5lib==0.9999999\n",
            "\u001b[?25l  Downloading https://files.pythonhosted.org/packages/ae/ae/bcb60402c60932b32dfaf19bb53870b29eda2cd17551ba5639219fb5ebf9/html5lib-0.9999999.tar.gz (889kB)\n",
            "\u001b[K     |████████████████████████████████| 890kB 64.0MB/s \n",
            "\u001b[?25hRequirement already satisfied: numpy>=1.11.0 in /usr/local/lib/python3.6/dist-packages (from tensorflow==1.2) (1.18.5)\n",
            "Requirement already satisfied: setuptools in /usr/local/lib/python3.6/dist-packages (from protobuf>=3.2.0->tensorflow==1.2) (50.3.0)\n",
            "Building wheels for collected packages: markdown, html5lib\n",
            "  Building wheel for markdown (setup.py) ... \u001b[?25l\u001b[?25hdone\n",
            "  Created wheel for markdown: filename=Markdown-2.2.0-cp36-none-any.whl size=136269 sha256=c4fbf271d77f2cd0e525acdcc502d00b47b4791dc122d7e9c8656b30a7ddcd8a\n",
            "  Stored in directory: /root/.cache/pip/wheels/b6/52/17/f0af18e3e0ec6fa60b361ffed15b4c3468f6f3bcdb87fbe079\n",
            "  Building wheel for html5lib (setup.py) ... \u001b[?25l\u001b[?25hdone\n",
            "  Created wheel for html5lib: filename=html5lib-0.9999999-cp36-none-any.whl size=107220 sha256=19810b1f4d26ec521ac738c96608f3bc5341424d93c275f3d872bdb8918b1b7f\n",
            "  Stored in directory: /root/.cache/pip/wheels/50/ae/f9/d2b189788efcf61d1ee0e36045476735c838898eef1cad6e29\n",
            "Successfully built markdown html5lib\n",
            "\u001b[31mERROR: tensorboard 2.3.0 has requirement markdown>=2.6.8, but you'll have markdown 2.2.0 which is incompatible.\u001b[0m\n",
            "Installing collected packages: html5lib, bleach, markdown, backports.weakref, tensorflow\n",
            "  Found existing installation: html5lib 1.0.1\n",
            "    Uninstalling html5lib-1.0.1:\n",
            "      Successfully uninstalled html5lib-1.0.1\n",
            "  Found existing installation: bleach 3.2.1\n",
            "    Uninstalling bleach-3.2.1:\n",
            "      Successfully uninstalled bleach-3.2.1\n",
            "  Found existing installation: Markdown 3.2.2\n",
            "    Uninstalling Markdown-3.2.2:\n",
            "      Successfully uninstalled Markdown-3.2.2\n",
            "  Found existing installation: tensorflow 2.3.0\n",
            "    Uninstalling tensorflow-2.3.0:\n",
            "      Successfully uninstalled tensorflow-2.3.0\n",
            "Successfully installed backports.weakref-1.0rc1 bleach-1.5.0 html5lib-0.9999999 markdown-2.2.0 tensorflow-1.2.0\n"
          ],
          "name": "stdout"
        },
        {
          "output_type": "stream",
          "text": [
            "/usr/local/lib/python3.6/dist-packages/tensorflow/python/framework/dtypes.py:458: FutureWarning: Passing (type, 1) or '1type' as a synonym of type is deprecated; in a future version of numpy, it will be understood as (type, (1,)) / '(1,)type'.\n",
            "  _np_qint8 = np.dtype([(\"qint8\", np.int8, 1)])\n",
            "/usr/local/lib/python3.6/dist-packages/tensorflow/python/framework/dtypes.py:459: FutureWarning: Passing (type, 1) or '1type' as a synonym of type is deprecated; in a future version of numpy, it will be understood as (type, (1,)) / '(1,)type'.\n",
            "  _np_quint8 = np.dtype([(\"quint8\", np.uint8, 1)])\n",
            "/usr/local/lib/python3.6/dist-packages/tensorflow/python/framework/dtypes.py:460: FutureWarning: Passing (type, 1) or '1type' as a synonym of type is deprecated; in a future version of numpy, it will be understood as (type, (1,)) / '(1,)type'.\n",
            "  _np_qint16 = np.dtype([(\"qint16\", np.int16, 1)])\n",
            "/usr/local/lib/python3.6/dist-packages/tensorflow/python/framework/dtypes.py:461: FutureWarning: Passing (type, 1) or '1type' as a synonym of type is deprecated; in a future version of numpy, it will be understood as (type, (1,)) / '(1,)type'.\n",
            "  _np_quint16 = np.dtype([(\"quint16\", np.uint16, 1)])\n",
            "/usr/local/lib/python3.6/dist-packages/tensorflow/python/framework/dtypes.py:462: FutureWarning: Passing (type, 1) or '1type' as a synonym of type is deprecated; in a future version of numpy, it will be understood as (type, (1,)) / '(1,)type'.\n",
            "  _np_qint32 = np.dtype([(\"qint32\", np.int32, 1)])\n",
            "/usr/local/lib/python3.6/dist-packages/tensorflow/python/framework/dtypes.py:465: FutureWarning: Passing (type, 1) or '1type' as a synonym of type is deprecated; in a future version of numpy, it will be understood as (type, (1,)) / '(1,)type'.\n",
            "  np_resource = np.dtype([(\"resource\", np.ubyte, 1)])\n"
          ],
          "name": "stderr"
        },
        {
          "output_type": "stream",
          "text": [
            "Collecting yfinance\n",
            "  Downloading https://files.pythonhosted.org/packages/7a/e8/b9d7104d3a4bf39924799067592d9e59119fcfc900a425a12e80a3123ec8/yfinance-0.1.55.tar.gz\n",
            "Requirement already satisfied: pandas>=0.24 in /usr/local/lib/python3.6/dist-packages (from yfinance) (1.1.2)\n",
            "Requirement already satisfied: numpy>=1.15 in /usr/local/lib/python3.6/dist-packages (from yfinance) (1.18.5)\n",
            "Requirement already satisfied: requests>=2.20 in /usr/local/lib/python3.6/dist-packages (from yfinance) (2.23.0)\n",
            "Requirement already satisfied: multitasking>=0.0.7 in /usr/local/lib/python3.6/dist-packages (from yfinance) (0.0.9)\n",
            "Collecting lxml>=4.5.1\n",
            "\u001b[?25l  Downloading https://files.pythonhosted.org/packages/79/37/d420b7fdc9a550bd29b8cfeacff3b38502d9600b09d7dfae9a69e623b891/lxml-4.5.2-cp36-cp36m-manylinux1_x86_64.whl (5.5MB)\n",
            "\u001b[K     |████████████████████████████████| 5.5MB 9.9MB/s \n",
            "\u001b[?25hRequirement already satisfied: pytz>=2017.2 in /usr/local/lib/python3.6/dist-packages (from pandas>=0.24->yfinance) (2018.9)\n",
            "Requirement already satisfied: python-dateutil>=2.7.3 in /usr/local/lib/python3.6/dist-packages (from pandas>=0.24->yfinance) (2.8.1)\n",
            "Requirement already satisfied: idna<3,>=2.5 in /usr/local/lib/python3.6/dist-packages (from requests>=2.20->yfinance) (2.10)\n",
            "Requirement already satisfied: chardet<4,>=3.0.2 in /usr/local/lib/python3.6/dist-packages (from requests>=2.20->yfinance) (3.0.4)\n",
            "Requirement already satisfied: urllib3!=1.25.0,!=1.25.1,<1.26,>=1.21.1 in /usr/local/lib/python3.6/dist-packages (from requests>=2.20->yfinance) (1.24.3)\n",
            "Requirement already satisfied: certifi>=2017.4.17 in /usr/local/lib/python3.6/dist-packages (from requests>=2.20->yfinance) (2020.6.20)\n",
            "Requirement already satisfied: six>=1.5 in /usr/local/lib/python3.6/dist-packages (from python-dateutil>=2.7.3->pandas>=0.24->yfinance) (1.15.0)\n",
            "Building wheels for collected packages: yfinance\n",
            "  Building wheel for yfinance (setup.py) ... \u001b[?25l\u001b[?25hdone\n",
            "  Created wheel for yfinance: filename=yfinance-0.1.55-py2.py3-none-any.whl size=22618 sha256=f476f9d8ed416a9cc2aafa30153fb3f02a90f79a03edf151a2c8db351e6e008a\n",
            "  Stored in directory: /root/.cache/pip/wheels/04/98/cc/2702a4242d60bdc14f48b4557c427ded1fe92aedf257d4565c\n",
            "Successfully built yfinance\n",
            "Installing collected packages: lxml, yfinance\n",
            "  Found existing installation: lxml 4.2.6\n",
            "    Uninstalling lxml-4.2.6:\n",
            "      Successfully uninstalled lxml-4.2.6\n",
            "Successfully installed lxml-4.5.2 yfinance-0.1.55\n"
          ],
          "name": "stdout"
        }
      ]
    },
    {
      "cell_type": "code",
      "metadata": {
        "id": "M58Mthm7X-R-",
        "outputId": "12f69a15-837e-459e-b6dc-5e5317ea5a11",
        "colab": {
          "base_uri": "https://localhost:8080/",
          "height": 980
        }
      },
      "source": [
        "rawDatas=yf.download(\"GOOG\",start=\"2020-07-31\",end=\"2020-10-10\")\n",
        "print(rawDatas)"
      ],
      "execution_count": null,
      "outputs": [
        {
          "output_type": "stream",
          "text": [
            "\r[*********************100%***********************]  1 of 1 completed\n",
            "                   Open         High  ...    Adj Close   Volume\n",
            "Date                                  ...                      \n",
            "2020-07-31  1505.010010  1508.949951  ...  1482.959961  3439900\n",
            "2020-08-03  1486.640015  1490.469971  ...  1474.449951  2330200\n",
            "2020-08-04  1476.569946  1485.560059  ...  1464.969971  1903500\n",
            "2020-08-05  1469.300049  1482.410034  ...  1473.609985  1979500\n",
            "2020-08-06  1471.750000  1502.390015  ...  1500.099976  1995400\n",
            "2020-08-07  1500.000000  1516.844971  ...  1494.489990  1576600\n",
            "2020-08-10  1487.180054  1504.074951  ...  1496.099976  1289300\n",
            "2020-08-11  1492.439941  1510.000000  ...  1480.319946  1454400\n",
            "2020-08-12  1485.579956  1512.385986  ...  1506.619995  1437700\n",
            "2020-08-13  1510.339966  1537.250000  ...  1518.449951  1455200\n",
            "2020-08-14  1515.660034  1521.900024  ...  1507.729980  1354800\n",
            "2020-08-17  1514.670044  1525.609985  ...  1517.979980  1378300\n",
            "2020-08-18  1526.180054  1562.469971  ...  1558.599976  2027100\n",
            "2020-08-19  1553.310059  1573.680054  ...  1547.530029  1660600\n",
            "2020-08-20  1543.449951  1585.869995  ...  1581.750000  1706900\n",
            "2020-08-21  1577.030029  1597.719971  ...  1580.420044  1446500\n",
            "2020-08-24  1593.979980  1614.170044  ...  1588.199951  1409900\n",
            "2020-08-25  1582.069946  1611.619995  ...  1608.219971  2247100\n",
            "2020-08-26  1608.000000  1659.219971  ...  1652.380005  3993400\n",
            "2020-08-27  1653.680054  1655.000000  ...  1634.329956  1861600\n",
            "2020-08-28  1633.489990  1647.170044  ...  1644.410034  1499800\n",
            "2020-08-31  1647.890015  1647.964966  ...  1634.180054  1823400\n",
            "2020-09-01  1636.630005  1665.729980  ...  1660.709961  1826700\n",
            "2020-09-02  1673.775024  1733.180054  ...  1728.280029  2511200\n",
            "2020-09-03  1709.713989  1709.713989  ...  1641.839966  3107800\n",
            "2020-09-04  1624.260010  1645.109985  ...  1591.040039  2608600\n",
            "2020-09-08  1533.510010  1563.864990  ...  1532.390015  2610900\n",
            "2020-09-09  1557.530029  1569.000000  ...  1556.959961  1774700\n",
            "2020-09-10  1560.640015  1584.081055  ...  1532.020020  1618600\n",
            "2020-09-11  1536.000000  1575.199951  ...  1520.719971  1597100\n",
            "2020-09-14  1539.005005  1564.000000  ...  1519.280029  1696600\n",
            "2020-09-15  1536.000000  1559.569946  ...  1541.439941  1331100\n",
            "2020-09-16  1555.540039  1562.000000  ...  1520.900024  1311700\n",
            "2020-09-17  1496.000000  1508.297974  ...  1495.530029  1879800\n",
            "2020-09-18  1498.010010  1503.003052  ...  1459.989990  3103900\n",
            "2020-09-21  1440.060059  1448.359985  ...  1431.160034  2888800\n",
            "2020-09-22  1450.089966  1469.520020  ...  1465.459961  1583200\n",
            "2020-09-23  1458.780029  1460.959961  ...  1415.209961  1657400\n",
            "2020-09-24  1411.030029  1443.708984  ...  1428.290039  1450200\n",
            "2020-09-25  1432.630005  1450.000000  ...  1444.959961  1323000\n",
            "2020-09-28  1474.209961  1476.800049  ...  1464.520020  2007900\n",
            "2020-09-29  1470.390015  1476.662964  ...  1469.329956   978200\n",
            "2020-09-30  1466.800049  1489.750000  ...  1469.599976  1700600\n",
            "2020-10-01  1484.270020  1499.040039  ...  1490.089966  1779500\n",
            "2020-10-02  1462.030029  1483.199951  ...  1458.420044  1284100\n",
            "2020-10-05  1466.209961  1488.209961  ...  1486.020020  1113300\n",
            "2020-10-06  1475.579956  1486.760010  ...  1453.439941  1245400\n",
            "2020-10-07  1464.290039  1468.959961  ...  1460.290039  1746200\n",
            "2020-10-08  1465.089966  1490.000000  ...  1485.930054  1187800\n",
            "2020-10-09  1494.699951  1516.520020  ...  1515.219971  1435300\n",
            "\n",
            "[50 rows x 6 columns]\n"
          ],
          "name": "stdout"
        }
      ]
    },
    {
      "cell_type": "code",
      "metadata": {
        "id": "VfVa0aTFuQ5S",
        "outputId": "f494f659-f129-4828-c6cf-8fb5d44efd26",
        "colab": {
          "base_uri": "https://localhost:8080/",
          "height": 1000
        }
      },
      "source": [
        "# convert dataframe to numpy\n",
        "npData =rawDatas.values\n",
        "print(npData)"
      ],
      "execution_count": null,
      "outputs": [
        {
          "output_type": "stream",
          "text": [
            "[[1.50501001e+03 1.50894995e+03 1.45403003e+03 1.48295996e+03\n",
            "  1.48295996e+03 3.43990000e+06]\n",
            " [1.48664001e+03 1.49046997e+03 1.46564001e+03 1.47444995e+03\n",
            "  1.47444995e+03 2.33020000e+06]\n",
            " [1.47656995e+03 1.48556006e+03 1.45865002e+03 1.46496997e+03\n",
            "  1.46496997e+03 1.90350000e+06]\n",
            " [1.46930005e+03 1.48241003e+03 1.46345996e+03 1.47360999e+03\n",
            "  1.47360999e+03 1.97950000e+06]\n",
            " [1.47175000e+03 1.50239001e+03 1.46600000e+03 1.50009998e+03\n",
            "  1.50009998e+03 1.99540000e+06]\n",
            " [1.50000000e+03 1.51684497e+03 1.48164001e+03 1.49448999e+03\n",
            "  1.49448999e+03 1.57660000e+06]\n",
            " [1.48718005e+03 1.50407495e+03 1.47307996e+03 1.49609998e+03\n",
            "  1.49609998e+03 1.28930000e+06]\n",
            " [1.49243994e+03 1.51000000e+03 1.47800000e+03 1.48031995e+03\n",
            "  1.48031995e+03 1.45440000e+06]\n",
            " [1.48557996e+03 1.51238599e+03 1.48525000e+03 1.50662000e+03\n",
            "  1.50662000e+03 1.43770000e+06]\n",
            " [1.51033997e+03 1.53725000e+03 1.50800500e+03 1.51844995e+03\n",
            "  1.51844995e+03 1.45520000e+06]\n",
            " [1.51566003e+03 1.52190002e+03 1.50288000e+03 1.50772998e+03\n",
            "  1.50772998e+03 1.35480000e+06]\n",
            " [1.51467004e+03 1.52560999e+03 1.50796997e+03 1.51797998e+03\n",
            "  1.51797998e+03 1.37830000e+06]\n",
            " [1.52618005e+03 1.56246997e+03 1.52370996e+03 1.55859998e+03\n",
            "  1.55859998e+03 2.02710000e+06]\n",
            " [1.55331006e+03 1.57368005e+03 1.54394995e+03 1.54753003e+03\n",
            "  1.54753003e+03 1.66060000e+06]\n",
            " [1.54344995e+03 1.58587000e+03 1.53819995e+03 1.58175000e+03\n",
            "  1.58175000e+03 1.70690000e+06]\n",
            " [1.57703003e+03 1.59771997e+03 1.56800500e+03 1.58042004e+03\n",
            "  1.58042004e+03 1.44650000e+06]\n",
            " [1.59397998e+03 1.61417004e+03 1.58056995e+03 1.58819995e+03\n",
            "  1.58819995e+03 1.40990000e+06]\n",
            " [1.58206995e+03 1.61162000e+03 1.58206995e+03 1.60821997e+03\n",
            "  1.60821997e+03 2.24710000e+06]\n",
            " [1.60800000e+03 1.65921997e+03 1.60359998e+03 1.65238000e+03\n",
            "  1.65238000e+03 3.99340000e+06]\n",
            " [1.65368005e+03 1.65500000e+03 1.62575000e+03 1.63432996e+03\n",
            "  1.63432996e+03 1.86160000e+06]\n",
            " [1.63348999e+03 1.64717004e+03 1.63075000e+03 1.64441003e+03\n",
            "  1.64441003e+03 1.49980000e+06]\n",
            " [1.64789001e+03 1.64796497e+03 1.63031006e+03 1.63418005e+03\n",
            "  1.63418005e+03 1.82340000e+06]\n",
            " [1.63663000e+03 1.66572998e+03 1.63221997e+03 1.66070996e+03\n",
            "  1.66070996e+03 1.82670000e+06]\n",
            " [1.67377502e+03 1.73318005e+03 1.66632996e+03 1.72828003e+03\n",
            "  1.72828003e+03 2.51120000e+06]\n",
            " [1.70971399e+03 1.70971399e+03 1.61506006e+03 1.64183997e+03\n",
            "  1.64183997e+03 3.10780000e+06]\n",
            " [1.62426001e+03 1.64510999e+03 1.54761304e+03 1.59104004e+03\n",
            "  1.59104004e+03 2.60860000e+06]\n",
            " [1.53351001e+03 1.56386499e+03 1.52801001e+03 1.53239001e+03\n",
            "  1.53239001e+03 2.61090000e+06]\n",
            " [1.55753003e+03 1.56900000e+03 1.53605103e+03 1.55695996e+03\n",
            "  1.55695996e+03 1.77470000e+06]\n",
            " [1.56064001e+03 1.58408105e+03 1.52580505e+03 1.53202002e+03\n",
            "  1.53202002e+03 1.61860000e+06]\n",
            " [1.53600000e+03 1.57519995e+03 1.49735999e+03 1.52071997e+03\n",
            "  1.52071997e+03 1.59710000e+06]\n",
            " [1.53900500e+03 1.56400000e+03 1.51573999e+03 1.51928003e+03\n",
            "  1.51928003e+03 1.69660000e+06]\n",
            " [1.53600000e+03 1.55956995e+03 1.53183496e+03 1.54143994e+03\n",
            "  1.54143994e+03 1.33110000e+06]\n",
            " [1.55554004e+03 1.56200000e+03 1.51981995e+03 1.52090002e+03\n",
            "  1.52090002e+03 1.31170000e+06]\n",
            " [1.49600000e+03 1.50829797e+03 1.47000000e+03 1.49553003e+03\n",
            "  1.49553003e+03 1.87980000e+06]\n",
            " [1.49801001e+03 1.50300305e+03 1.43713000e+03 1.45998999e+03\n",
            "  1.45998999e+03 3.10390000e+06]\n",
            " [1.44006006e+03 1.44835999e+03 1.40655005e+03 1.43116003e+03\n",
            "  1.43116003e+03 2.88880000e+06]\n",
            " [1.45008997e+03 1.46952002e+03 1.43453003e+03 1.46545996e+03\n",
            "  1.46545996e+03 1.58320000e+06]\n",
            " [1.45878003e+03 1.46095996e+03 1.40769995e+03 1.41520996e+03\n",
            "  1.41520996e+03 1.65740000e+06]\n",
            " [1.41103003e+03 1.44370898e+03 1.40984998e+03 1.42829004e+03\n",
            "  1.42829004e+03 1.45020000e+06]\n",
            " [1.43263000e+03 1.45000000e+03 1.41333997e+03 1.44495996e+03\n",
            "  1.44495996e+03 1.32300000e+06]\n",
            " [1.47420996e+03 1.47680005e+03 1.44930103e+03 1.46452002e+03\n",
            "  1.46452002e+03 2.00790000e+06]\n",
            " [1.47039001e+03 1.47666296e+03 1.45880505e+03 1.46932996e+03\n",
            "  1.46932996e+03 9.78200000e+05]\n",
            " [1.46680005e+03 1.48975000e+03 1.45988000e+03 1.46959998e+03\n",
            "  1.46959998e+03 1.70060000e+06]\n",
            " [1.48427002e+03 1.49904004e+03 1.47920996e+03 1.49008997e+03\n",
            "  1.49008997e+03 1.77950000e+06]\n",
            " [1.46203003e+03 1.48319995e+03 1.45092004e+03 1.45842004e+03\n",
            "  1.45842004e+03 1.28410000e+06]\n",
            " [1.46620996e+03 1.48820996e+03 1.46427002e+03 1.48602002e+03\n",
            "  1.48602002e+03 1.11330000e+06]\n",
            " [1.47557996e+03 1.48676001e+03 1.44858997e+03 1.45343994e+03\n",
            "  1.45343994e+03 1.24540000e+06]\n",
            " [1.46429004e+03 1.46895996e+03 1.43600000e+03 1.46029004e+03\n",
            "  1.46029004e+03 1.74620000e+06]\n",
            " [1.46508997e+03 1.49000000e+03 1.46508997e+03 1.48593005e+03\n",
            "  1.48593005e+03 1.18780000e+06]\n",
            " [1.49469995e+03 1.51652002e+03 1.48944995e+03 1.51521997e+03\n",
            "  1.51521997e+03 1.43530000e+06]]\n"
          ],
          "name": "stdout"
        }
      ]
    },
    {
      "cell_type": "code",
      "metadata": {
        "id": "X-HRyOtgyYH4",
        "outputId": "6475c903-b0e2-42b1-fabc-2cc34149ae8b",
        "colab": {
          "base_uri": "https://localhost:8080/",
          "height": 35
        }
      },
      "source": [
        "DataShapes = np.shape(npData)\n",
        "DataShapes"
      ],
      "execution_count": null,
      "outputs": [
        {
          "output_type": "execute_result",
          "data": {
            "text/plain": [
              "(50, 6)"
            ]
          },
          "metadata": {
            "tags": []
          },
          "execution_count": 38
        }
      ]
    },
    {
      "cell_type": "code",
      "metadata": {
        "id": "VfMNP7Jl6FxM",
        "outputId": "e81e3c4c-14eb-4bfe-81a9-5663f0f3b7c1",
        "colab": {
          "base_uri": "https://localhost:8080/",
          "height": 35
        }
      },
      "source": [
        "numpyDataShape = npData.shape\n",
        "numpyDataShape"
      ],
      "execution_count": null,
      "outputs": [
        {
          "output_type": "execute_result",
          "data": {
            "text/plain": [
              "(50, 6)"
            ]
          },
          "metadata": {
            "tags": []
          },
          "execution_count": 39
        }
      ]
    },
    {
      "cell_type": "code",
      "metadata": {
        "id": "wLlTeeZyjgpx",
        "outputId": "41a0ee0e-8c76-4599-c89a-e70333f57b47",
        "colab": {
          "base_uri": "https://localhost:8080/",
          "height": 892
        }
      },
      "source": [
        "# only close value\n",
        "closeValues = npData[:,3:4]\n",
        "print(closeValues)"
      ],
      "execution_count": null,
      "outputs": [
        {
          "output_type": "stream",
          "text": [
            "[[1482.95996094]\n",
            " [1474.44995117]\n",
            " [1464.9699707 ]\n",
            " [1473.60998535]\n",
            " [1500.09997559]\n",
            " [1494.48999023]\n",
            " [1496.09997559]\n",
            " [1480.31994629]\n",
            " [1506.61999512]\n",
            " [1518.44995117]\n",
            " [1507.72998047]\n",
            " [1517.97998047]\n",
            " [1558.59997559]\n",
            " [1547.5300293 ]\n",
            " [1581.75      ]\n",
            " [1580.42004395]\n",
            " [1588.19995117]\n",
            " [1608.2199707 ]\n",
            " [1652.38000488]\n",
            " [1634.32995605]\n",
            " [1644.41003418]\n",
            " [1634.18005371]\n",
            " [1660.70996094]\n",
            " [1728.2800293 ]\n",
            " [1641.83996582]\n",
            " [1591.04003906]\n",
            " [1532.39001465]\n",
            " [1556.95996094]\n",
            " [1532.02001953]\n",
            " [1520.7199707 ]\n",
            " [1519.2800293 ]\n",
            " [1541.43994141]\n",
            " [1520.90002441]\n",
            " [1495.5300293 ]\n",
            " [1459.98999023]\n",
            " [1431.16003418]\n",
            " [1465.45996094]\n",
            " [1415.20996094]\n",
            " [1428.29003906]\n",
            " [1444.95996094]\n",
            " [1464.52001953]\n",
            " [1469.32995605]\n",
            " [1469.59997559]\n",
            " [1490.08996582]\n",
            " [1458.42004395]\n",
            " [1486.02001953]\n",
            " [1453.43994141]\n",
            " [1460.29003906]\n",
            " [1485.93005371]\n",
            " [1515.2199707 ]]\n"
          ],
          "name": "stdout"
        }
      ]
    },
    {
      "cell_type": "code",
      "metadata": {
        "id": "53bZ6v9qpJf5",
        "outputId": "f617b920-dd4c-4a2d-fff2-51a8c167f914",
        "colab": {
          "base_uri": "https://localhost:8080/",
          "height": 1000
        }
      },
      "source": [
        "fig, (ax1,ax2,ax3) = plt.subplots(3, figsize=(24,20))\n",
        "rawDatas.Close.plot(ax=ax2)\n",
        "ax1.set(title = ' Google',\n",
        "          ylabel = 'Stock price')\n",
        "\n",
        "rawDatas.Volume.plot(ax=ax1)\n",
        "ax2.set(ylabel = 'Volume')\n",
        "\n",
        "xval=(np.arange(50))+1\n",
        "print(xval)\n",
        "ax3.scatter(xval, closeValues)"
      ],
      "execution_count": null,
      "outputs": [
        {
          "output_type": "stream",
          "text": [
            "[ 1  2  3  4  5  6  7  8  9 10 11 12 13 14 15 16 17 18 19 20 21 22 23 24\n",
            " 25 26 27 28 29 30 31 32 33 34 35 36 37 38 39 40 41 42 43 44 45 46 47 48\n",
            " 49 50]\n"
          ],
          "name": "stdout"
        },
        {
          "output_type": "execute_result",
          "data": {
            "text/plain": [
              "<matplotlib.collections.PathCollection at 0x7fe46f0398d0>"
            ]
          },
          "metadata": {
            "tags": []
          },
          "execution_count": 41
        },
        {
          "output_type": "display_data",
          "data": {
            "image/png": "[encoded data removed]",
            "text/plain": [
              "<Figure size 1728x1440 with 3 Axes>"
            ]
          },
          "metadata": {
            "tags": [],
            "needs_background": "light"
          }
        }
      ]
    },
    {
      "cell_type": "code",
      "metadata": {
        "id": "jKPD66VlAOE3",
        "outputId": "10f30562-b939-46da-f585-33db8825b52a",
        "colab": {
          "base_uri": "https://localhost:8080/",
          "height": 945
        }
      },
      "source": [
        "x_data = np.arange(50)\n",
        "y_data = closeValues\n",
        "print(\"x_data = \", x_data)\n",
        "print(\"y_data = \", y_data)"
      ],
      "execution_count": null,
      "outputs": [
        {
          "output_type": "stream",
          "text": [
            "x_data =  [ 0  1  2  3  4  5  6  7  8  9 10 11 12 13 14 15 16 17 18 19 20 21 22 23\n",
            " 24 25 26 27 28 29 30 31 32 33 34 35 36 37 38 39 40 41 42 43 44 45 46 47\n",
            " 48 49]\n",
            "y_data =  [[1482.95996094]\n",
            " [1474.44995117]\n",
            " [1464.9699707 ]\n",
            " [1473.60998535]\n",
            " [1500.09997559]\n",
            " [1494.48999023]\n",
            " [1496.09997559]\n",
            " [1480.31994629]\n",
            " [1506.61999512]\n",
            " [1518.44995117]\n",
            " [1507.72998047]\n",
            " [1517.97998047]\n",
            " [1558.59997559]\n",
            " [1547.5300293 ]\n",
            " [1581.75      ]\n",
            " [1580.42004395]\n",
            " [1588.19995117]\n",
            " [1608.2199707 ]\n",
            " [1652.38000488]\n",
            " [1634.32995605]\n",
            " [1644.41003418]\n",
            " [1634.18005371]\n",
            " [1660.70996094]\n",
            " [1728.2800293 ]\n",
            " [1641.83996582]\n",
            " [1591.04003906]\n",
            " [1532.39001465]\n",
            " [1556.95996094]\n",
            " [1532.02001953]\n",
            " [1520.7199707 ]\n",
            " [1519.2800293 ]\n",
            " [1541.43994141]\n",
            " [1520.90002441]\n",
            " [1495.5300293 ]\n",
            " [1459.98999023]\n",
            " [1431.16003418]\n",
            " [1465.45996094]\n",
            " [1415.20996094]\n",
            " [1428.29003906]\n",
            " [1444.95996094]\n",
            " [1464.52001953]\n",
            " [1469.32995605]\n",
            " [1469.59997559]\n",
            " [1490.08996582]\n",
            " [1458.42004395]\n",
            " [1486.02001953]\n",
            " [1453.43994141]\n",
            " [1460.29003906]\n",
            " [1485.93005371]\n",
            " [1515.2199707 ]]\n"
          ],
          "name": "stdout"
        }
      ]
    },
    {
      "cell_type": "code",
      "metadata": {
        "id": "gyodx5SwnFkY",
        "outputId": "1b12aa7e-b6bd-43b2-b0e7-c4870ecfc1f4",
        "colab": {
          "base_uri": "https://localhost:8080/",
          "height": 90
        }
      },
      "source": [
        "x_data = np.arange(50)\n",
        "x_data = (x_data+1).tolist()\n",
        "y_data = closeValues.ravel()\n",
        "y_data = (y_data).tolist()\n",
        "print(\"x_data = \", x_data)\n",
        "print(\"y_data = \", y_data)\n",
        "print(len(y_data))"
      ],
      "execution_count": null,
      "outputs": [
        {
          "output_type": "stream",
          "text": [
            "x_data =  [1, 2, 3, 4, 5, 6, 7, 8, 9, 10, 11, 12, 13, 14, 15, 16, 17, 18, 19, 20, 21, 22, 23, 24, 25, 26, 27, 28, 29, 30, 31, 32, 33, 34, 35, 36, 37, 38, 39, 40, 41, 42, 43, 44, 45, 46, 47, 48, 49, 50]\n",
            "y_data =  [1482.9599609375, 1474.449951171875, 1464.969970703125, 1473.6099853515625, 1500.0999755859375, 1494.489990234375, 1496.0999755859375, 1480.3199462890625, 1506.6199951171875, 1518.449951171875, 1507.72998046875, 1517.97998046875, 1558.5999755859375, 1547.530029296875, 1581.75, 1580.4200439453125, 1588.199951171875, 1608.219970703125, 1652.3800048828125, 1634.3299560546875, 1644.4100341796875, 1634.1800537109375, 1660.7099609375, 1728.280029296875, 1641.8399658203125, 1591.0400390625, 1532.3900146484375, 1556.9599609375, 1532.02001953125, 1520.719970703125, 1519.280029296875, 1541.43994140625, 1520.9000244140625, 1495.530029296875, 1459.989990234375, 1431.1600341796875, 1465.4599609375, 1415.2099609375, 1428.2900390625, 1444.9599609375, 1464.52001953125, 1469.3299560546875, 1469.5999755859375, 1490.0899658203125, 1458.4200439453125, 1486.02001953125, 1453.43994140625, 1460.2900390625, 1485.9300537109375, 1515.219970703125]\n",
            "50\n"
          ],
          "name": "stdout"
        }
      ]
    },
    {
      "cell_type": "code",
      "metadata": {
        "id": "kNAer36I7tUx",
        "outputId": "d1b693e2-aaf9-47be-dfd9-69ef06926a76",
        "colab": {
          "base_uri": "https://localhost:8080/",
          "height": 420
        }
      },
      "source": [
        "# Linear Regression for stock forecasting\n",
        "\n",
        "#예측할 지점 미리 출력\n",
        "\n",
        "ActualValue=y_data[10]\n",
        "\n",
        "#리니어한 구간 설정\n",
        "x_data=x_data[:10]\n",
        "y_data=y_data[:10]\n",
        "\n",
        "\n",
        "# Try to find values for W and b to compute Y = W * X + b\n",
        "W = tf.Variable(tf.random_normal([1]), name=\"weight\")\n",
        "b = tf.Variable(tf.random_normal([1]), name=\"bias\")\n",
        "\n",
        "# placeholders for a tensor that will be always fed using feed_dict\n",
        "\n",
        "X = tf.placeholder(tf.float32, shape=[None])\n",
        "Y = tf.placeholder(tf.float32, shape=[None])\n",
        "\n",
        "# Our hypothesis is X * W + b\n",
        "hypothesis = X * W + b\n",
        "\n",
        "# cost/loss function\n",
        "cost = tf.reduce_mean(tf.square(hypothesis - Y))\n",
        "\n",
        "# optimizer\n",
        "train = tf.train.GradientDescentOptimizer(learning_rate=0.01).minimize(cost)\n",
        "\n",
        "# Launch the graph in a session.\n",
        "with tf.Session() as sess:\n",
        "    # Initializes global variables in the graph.\n",
        "    sess.run(tf.global_variables_initializer())\n",
        "\n",
        "    # Fit the line\n",
        "    for step in range(2001):\n",
        "        _, cost_val, W_val, b_val = sess.run(\n",
        "            [train, cost, W, b], feed_dict={X:x_data , Y:y_data}\n",
        "        )\n",
        "        if step % 100 == 0:\n",
        "            print(step, cost_val, W_val, b_val)\n",
        "\n",
        "    # Testing our model\n",
        "    # 15 미만으로 array를 넣었으니 예상값은 15\n",
        "    print(\" 예상 값: \" ,sess.run(hypothesis, feed_dict={X: [10.]}))\n",
        "    print(' 실제 값:',ActualValue)\n"
      ],
      "execution_count": null,
      "outputs": [
        {
          "output_type": "stream",
          "text": [
            "0 2199957.5 [164.33809] [32.370438]\n",
            "100 189949.34 [138.76434] [529.2072]\n",
            "200 81928.56 [92.52058] [851.148]\n",
            "300 35373.008 [62.161743] [1062.5009]\n",
            "400 15308.158 [42.23128] [1201.2532]\n",
            "500 6660.4775 [29.14703] [1292.3434]\n",
            "600 2933.4126 [20.55721] [1352.1442]\n",
            "700 1327.1072 [14.918066] [1391.403]\n",
            "800 634.81177 [11.215999] [1417.1761]\n",
            "900 336.446 [8.785655] [1434.0957]\n",
            "1000 207.84798 [7.1900716] [1445.2039]\n",
            "1100 152.42538 [6.1426263] [1452.496]\n",
            "1200 128.53897 [5.454972] [1457.2833]\n",
            "1300 118.242676 [5.0034924] [1460.4265]\n",
            "1400 113.80516 [4.707083] [1462.49]\n",
            "1500 111.89268 [4.512485] [1463.8447]\n",
            "1600 111.0687 [4.384793] [1464.7338]\n",
            "1700 110.71366 [4.300933] [1465.3176]\n",
            "1800 110.560585 [4.245892] [1465.7007]\n",
            "1900 110.494644 [4.2097893] [1465.9521]\n",
            "2000 110.466064 [4.1860776] [1466.1172]\n",
            " 예상 값:  [1507.9779]\n",
            " 실제 값: 1507.72998046875\n"
          ],
          "name": "stdout"
        }
      ]
    },
    {
      "cell_type": "code",
      "metadata": {
        "id": "WvxEQLpKxuAl"
      },
      "source": [
        ""
      ],
      "execution_count": null,
      "outputs": []
    }
  ]
}